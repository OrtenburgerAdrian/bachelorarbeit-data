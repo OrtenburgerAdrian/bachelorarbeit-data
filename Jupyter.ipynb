{
  "nbformat": 4,
  "nbformat_minor": 0,
  "metadata": {
    "colab": {
      "name": "my hope",
      "version": "0.3.2",
      "provenance": [],
      "collapsed_sections": []
    },
    "kernelspec": {
      "name": "python3",
      "display_name": "Python 3"
    }
  },
  "cells": [
    {
      "metadata": {
        "id": "DulrMsH7ctGp",
        "colab_type": "text"
      },
      "cell_type": "markdown",
      "source": [
        "Init\n",
        "\n"
      ]
    },
    {
      "metadata": {
        "id": "Zgp4nvHRcq2A",
        "colab_type": "code",
        "outputId": "c48c89ed-d61d-4b6f-9790-e311588d021c",
        "colab": {
          "base_uri": "https://localhost:8080/",
          "height": 563
        }
      },
      "cell_type": "code",
      "source": [
        "!wget https://github.com/OrtenburgerAdrian/Thesis-Data/archive/master.zip\n",
        "!unzip master.zip\n",
        "\n",
        "import re\n",
        "import string\n",
        "from google.colab import files\n",
        "\n",
        "import numpy as np\n",
        "import os\n",
        "import subprocess\n",
        "import matplotlib.pyplot as plt\n",
        "from sklearn.model_selection import train_test_split\n",
        "\n",
        "from keras.models import Sequential\n",
        "from keras import Sequential\n",
        "from keras.preprocessing import sequence\n",
        "from keras.models import load_model\n",
        "from keras.layers import Embedding, LSTM, Dense, Dropout\n"
      ],
      "execution_count": 0,
      "outputs": [
        {
          "output_type": "stream",
          "text": [
            "--2019-03-20 09:58:04--  https://github.com/OrtenburgerAdrian/Thesis-Data/archive/master.zip\n",
            "Resolving github.com (github.com)... 192.30.253.113, 192.30.253.112\n",
            "Connecting to github.com (github.com)|192.30.253.113|:443... connected.\n",
            "HTTP request sent, awaiting response... 302 Found\n",
            "Location: https://codeload.github.com/OrtenburgerAdrian/Thesis-Data/zip/master [following]\n",
            "--2019-03-20 09:58:05--  https://codeload.github.com/OrtenburgerAdrian/Thesis-Data/zip/master\n",
            "Resolving codeload.github.com (codeload.github.com)... 192.30.255.120, 192.30.255.121\n",
            "Connecting to codeload.github.com (codeload.github.com)|192.30.255.120|:443... connected.\n",
            "HTTP request sent, awaiting response... 200 OK\n",
            "Length: unspecified [application/zip]\n",
            "Saving to: ‘master.zip’\n",
            "\n",
            "master.zip              [   <=>              ]   2.97M  4.89MB/s    in 0.6s    \n",
            "\n",
            "2019-03-20 09:58:06 (4.89 MB/s) - ‘master.zip’ saved [3115145]\n",
            "\n",
            "Archive:  master.zip\n",
            "91a5ba15669ffef0dd4592887ff08fa473422427\n",
            "   creating: Thesis-Data-master/\n",
            "  inflating: Thesis-Data-master/a_c  \n",
            "  inflating: Thesis-Data-master/a_c_k  \n",
            "  inflating: Thesis-Data-master/a_w  \n",
            "  inflating: Thesis-Data-master/a_w_k  \n",
            "  inflating: Thesis-Data-master/c_i_z  \n",
            "  inflating: Thesis-Data-master/c_w_t  \n",
            "  inflating: Thesis-Data-master/g_w_370000  \n",
            "  inflating: Thesis-Data-master/model_ger_comm_acc.0.8634538181335571_epoch.12  \n",
            "  inflating: Thesis-Data-master/readme.txt  \n",
            "  inflating: Thesis-Data-master/s_w_240  \n"
          ],
          "name": "stdout"
        },
        {
          "output_type": "stream",
          "text": [
            "Using TensorFlow backend.\n"
          ],
          "name": "stderr"
        }
      ]
    },
    {
      "metadata": {
        "id": "vAfJY8LaJVph",
        "colab_type": "code",
        "colab": {}
      },
      "cell_type": "code",
      "source": [
        "!ls ./Thesis-Data-master/"
      ],
      "execution_count": 0,
      "outputs": []
    },
    {
      "metadata": {
        "id": "FcZy0WE0jzyW",
        "colab_type": "code",
        "colab": {}
      },
      "cell_type": "code",
      "source": [
        "files.download('6k_spellcheck_word-rechtschreib-prüfung.formt_2.0')"
      ],
      "execution_count": 0,
      "outputs": []
    },
    {
      "metadata": {
        "id": "--TTIfqWc_T3",
        "colab_type": "text"
      },
      "cell_type": "markdown",
      "source": [
        "Doppelte Zeilen Löschen"
      ]
    },
    {
      "metadata": {
        "id": "wdoRw0a7dHoV",
        "colab_type": "code",
        "colab": {}
      },
      "cell_type": "code",
      "source": [
        "string = ''\n",
        "fobj = open(\"Thesis-Data-master/a_c_k\")\n",
        "lines = fobj.readlines()\n",
        "lines = sorted(lines)\n",
        "fobj_out = open(\"a_c_k\",\"w\")\n",
        "for line in lines:\n",
        "    if string == line.rstrip():\n",
        "        print(line.rstrip())\n",
        "    else:\n",
        "        fobj_out.write(line)\n",
        "    string = line.rstrip()\n",
        "fobj.close()\n",
        "fobj_out.close()\n"
      ],
      "execution_count": 0,
      "outputs": []
    },
    {
      "metadata": {
        "id": "MDammfVndQge",
        "colab_type": "text"
      },
      "cell_type": "markdown",
      "source": [
        "ID-Tabelle ertellen"
      ]
    },
    {
      "metadata": {
        "id": "HIeVwxXddVIK",
        "colab_type": "code",
        "colab": {}
      },
      "cell_type": "code",
      "source": [
        "fobj = open(\"Thesis-Data-master/a_w_k\")\n",
        "list_w=[]\n",
        "list_z=[]\n",
        "\n",
        "for line in fobj:\n",
        "  line = re.sub('\\n' , '', line)\n",
        "  if line in list_w:\n",
        "    list_z[list_w.index(line)] += 1 \n",
        "  else:\n",
        "    list_w.append(line)\n",
        "    list_z.append(1)\n",
        "    \n",
        "\n",
        "fobj_out = open(\"c_w_t\",\"w\")\n",
        "\n",
        "\n",
        "for x in list_w:\n",
        "  if list_z[list_w.index(x)]<3:\n",
        "    i=list_w.index(x)\n",
        "    list_w[i]=''\n",
        "    list_z[i]=0\n",
        "  \n",
        "i=0   \n",
        "for x in list_w:\n",
        "  if x=='':\n",
        "    continue\n",
        "  fobj_out.write(str(x)+' '+str(i)+' '+str(list_z[list_w.index(x)])+'\\n')\n",
        "  i+=1\n",
        "fobj_out.close()\n",
        "fobj.close() "
      ],
      "execution_count": 0,
      "outputs": []
    },
    {
      "metadata": {
        "id": "Sg_EJ_1CddBX",
        "colab_type": "text"
      },
      "cell_type": "markdown",
      "source": [
        "Kommentare mit ID-Tabelle übersätzen"
      ]
    },
    {
      "metadata": {
        "id": "LwkxTbszdbZ3",
        "colab_type": "code",
        "colab": {}
      },
      "cell_type": "code",
      "source": [
        "fobj_out = open(\"c_i_z1\",\"w\")\n",
        "fobj2 = open(\"Thesis-Data-master/c_w_t\")\n",
        "fobj = open(\"Thesis-Data-master/a_c_k\")\n",
        "list_w=[]\n",
        "for w in fobj2:\n",
        "  list_w.append(w.split(' ')[0])\n",
        "for line in fobj:\n",
        "  worter = line.split(';')[1].split(' ')\n",
        "  x=''\n",
        "  for wort in worter:\n",
        "    wort = re.sub('\\n' , '', wort)\n",
        "    wort = wort.lower()\n",
        "    if wort in list_w:\n",
        "      if list_w.index(wort)==0:\n",
        "        index = 3136\n",
        "      else:\n",
        "        index = list_w.index(wort)\n",
        "      x=x+str(index)+' '\n",
        "  fobj_out.write(str(line.split(';')[0])+';'+ x+'\\n')\n",
        "  \n",
        "string = ''\n",
        "fobj = open(\"c_i_z1\")\n",
        "lines = fobj.readlines()\n",
        "lines = sorted(lines)\n",
        "fobj_out = open(\"c_i_z\",\"w\")\n",
        "for line in lines:\n",
        "    if string == line.rstrip():\n",
        "        print(line.rstrip())\n",
        "    else:\n",
        "        fobj_out.write(line)\n",
        "    string = line.rstrip()\n",
        "fobj.close()\n",
        "fobj_out.close()"
      ],
      "execution_count": 0,
      "outputs": []
    },
    {
      "metadata": {
        "id": "VxEtjIhOdmna",
        "colab_type": "text"
      },
      "cell_type": "markdown",
      "source": [
        "Wie viele wörter bis 90% der Kommentare nicht gekürzt werden müssen."
      ]
    },
    {
      "metadata": {
        "id": "3k0XVHwzdnGu",
        "colab_type": "code",
        "outputId": "84749455-17fc-4bd2-93a1-aa6df569ce9f",
        "colab": {
          "base_uri": "https://localhost:8080/",
          "height": 35
        }
      },
      "cell_type": "code",
      "source": [
        "prozent = 90 # so viele Prozent wie gewüscht \n",
        "\n",
        "fobj = open(\"Thesis-Data-master/c_i_z\")\n",
        "a = []\n",
        "i = 0\n",
        "while i < 1000:\n",
        "  a.append(0)\n",
        "  i += 1\n",
        "for x in fobj:\n",
        "  a[len( x.split(';')[1].split(' '))]+=1\n",
        "fobj.close()\n",
        "i = 0\n",
        "for x in a:\n",
        "  i = i + x \n",
        "y = 0\n",
        "u = 0\n",
        "while u <len(a):\n",
        "  y = y + a[u]\n",
        "  if y / i * 100 > prozent:\n",
        "    print (u)\n",
        "    break\n",
        "  u += 1"
      ],
      "execution_count": 0,
      "outputs": [
        {
          "output_type": "stream",
          "text": [
            "34\n"
          ],
          "name": "stdout"
        }
      ]
    },
    {
      "metadata": {
        "id": "pQqtH_0Gdrf9",
        "colab_type": "text"
      },
      "cell_type": "markdown",
      "source": [
        "Den Sentimentwert in ein Array übertragen"
      ]
    },
    {
      "metadata": {
        "id": "PBVr_skTdsHg",
        "colab_type": "code",
        "outputId": "1e125634-72cf-44f2-f688-2a9fa6e8ad8d",
        "colab": {
          "base_uri": "https://localhost:8080/",
          "height": 35
        }
      },
      "cell_type": "code",
      "source": [
        "fobj = open(\"Thesis-Data-master/c_i_z\")\n",
        "lines = fobj.readlines()\n",
        "Y=[]\n",
        "for line in lines:\n",
        "  if line.split(';')[1] == \"\\n\":\n",
        "    continue\n",
        "  if line.split(';')[0] == \"0\":\n",
        "    Y.extend([[1, 0]])\n",
        "  if line.split(';')[0] == \"1\":\n",
        "    #Y.extend([[0, 1]])\n",
        "    continue\n",
        "  if line.split(';')[0] == \"2\":\n",
        "    Y.extend([[0, 1]])\n",
        "\n",
        "fobj.close()\n",
        "y = np.array(Y, dtype=float)\n",
        "print(y.shape)"
      ],
      "execution_count": 0,
      "outputs": [
        {
          "output_type": "stream",
          "text": [
            "(2485, 2)\n"
          ],
          "name": "stdout"
        }
      ]
    },
    {
      "metadata": {
        "id": "wdhJewmWdxop",
        "colab_type": "text"
      },
      "cell_type": "markdown",
      "source": [
        "Den Kommmentar (die Zahlenkolonne) in ein Array übertragen"
      ]
    },
    {
      "metadata": {
        "id": "GuCGt2IDd0yd",
        "colab_type": "code",
        "outputId": "72b09431-7b0d-4ff0-f355-4952db70da36",
        "colab": {
          "base_uri": "https://localhost:8080/",
          "height": 35
        }
      },
      "cell_type": "code",
      "source": [
        "fobj = open(\"Thesis-Data-master/c_i_z\")\n",
        "list_c=[]\n",
        "for line in fobj:\n",
        "  list_w=[]\n",
        "  line = re.sub('\\n' , '', line)\n",
        "  if line.split(';')[1] == \"\":\n",
        "    continue  \n",
        "  if line.split(';')[0] == \"1\":\n",
        "    continue\n",
        "  words = line.split(';')[1].split(' ')\n",
        "  for word in words:\n",
        "    try:\n",
        "      if int(word) == 0: \n",
        "        word= 1316\n",
        "      list_w.append(int(word))\n",
        "    except:\n",
        "      continue\n",
        "  list_c.append(list_w)\n",
        "print (len(list_c))"
      ],
      "execution_count": 0,
      "outputs": [
        {
          "output_type": "stream",
          "text": [
            "2485\n"
          ],
          "name": "stdout"
        }
      ]
    },
    {
      "metadata": {
        "id": "3tsRMZ97eb9p",
        "colab_type": "text"
      },
      "cell_type": "markdown",
      "source": [
        "Daten in Test-, Trainings-, und Validirungsdaten aufteilen."
      ]
    },
    {
      "metadata": {
        "id": "UZzuVa57egKz",
        "colab_type": "code",
        "colab": {}
      },
      "cell_type": "code",
      "source": [
        "max_words = 34\n",
        "validierungsdaten=50\n",
        "\n",
        "#aufteilen in Test- und Trainingsdaten\n",
        "X_train,X_test,y_train,y_test=train_test_split(\n",
        "    list_c, y,test_size=0.10, random_state = 1)\n",
        "\n",
        "#Kürzung bzw. Erweiterung der Kommentare auf die maximale Länge.\n",
        "X_train = sequence.pad_sequences(X_train, maxlen=max_words)\n",
        "X_test = sequence.pad_sequences(X_test, maxlen=max_words)\n",
        "\n",
        "#Aufteilung in Trainings- und Validierungsdaten\n",
        "X_valid, y_valid = X_train[:validierungsdaten], y_train[:validierungsdaten]\n",
        "X_train, y_train = X_train[validierungsdaten:], y_train[validierungsdaten:]"
      ],
      "execution_count": 0,
      "outputs": []
    },
    {
      "metadata": {
        "id": "ju9f8rpqejdB",
        "colab_type": "text"
      },
      "cell_type": "markdown",
      "source": [
        "Das LSTM"
      ]
    },
    {
      "metadata": {
        "id": "Et1YfPB_ekqY",
        "colab_type": "code",
        "outputId": "0bbf2595-f9a5-4330-9355-eb5384767e77",
        "colab": {
          "base_uri": "https://localhost:8080/",
          "height": 308
        }
      },
      "cell_type": "code",
      "source": [
        "embedding_size=32\n",
        "library=3137\n",
        "max_words= 34\n",
        "\n",
        "model=Sequential()\n",
        "model.add(Embedding(library, embedding_size, input_length=max_words))\n",
        "model.add(LSTM(2))\n",
        "model.add(Dropout(0.25))\n",
        "#model.add(Dense(2, activation='sigmoid'))\n",
        "model.add(Dense(2, activation='softmax'))\n",
        "print(model.summary())\n",
        "model.compile(loss='binary_crossentropy', \n",
        "             optimizer='adam', \n",
        "             metrics=['accuracy'])"
      ],
      "execution_count": 0,
      "outputs": [
        {
          "output_type": "stream",
          "text": [
            "_________________________________________________________________\n",
            "Layer (type)                 Output Shape              Param #   \n",
            "=================================================================\n",
            "embedding_3 (Embedding)      (None, 34, 32)            100384    \n",
            "_________________________________________________________________\n",
            "lstm_3 (LSTM)                (None, 4)                 592       \n",
            "_________________________________________________________________\n",
            "dropout_3 (Dropout)          (None, 4)                 0         \n",
            "_________________________________________________________________\n",
            "dense_3 (Dense)              (None, 2)                 10        \n",
            "=================================================================\n",
            "Total params: 100,986\n",
            "Trainable params: 100,986\n",
            "Non-trainable params: 0\n",
            "_________________________________________________________________\n",
            "None\n"
          ],
          "name": "stdout"
        }
      ]
    },
    {
      "metadata": {
        "id": "-PZH__BRf35F",
        "colab_type": "text"
      },
      "cell_type": "markdown",
      "source": [
        "Training"
      ]
    },
    {
      "metadata": {
        "id": "7V7cNnOse9H_",
        "colab_type": "code",
        "colab": {}
      },
      "cell_type": "code",
      "source": [
        "i=1\n",
        "while i<200:\n",
        "  model.fit(X_train, y_train, validation_data=(X_valid, y_valid), \n",
        "                                          batch_size=1, epochs=1)\n",
        "  scores = model.evaluate(X_test, y_test, verbose=0)\n",
        "  print('Test accuracy:', scores[1])\n",
        "  model.save('modell_acc.'+str(scores[1])+'_epoch.'+str(i))\n",
        "  i+=1"
      ],
      "execution_count": 0,
      "outputs": []
    },
    {
      "metadata": {
        "id": "NIh68InOthj9",
        "colab_type": "code",
        "outputId": "a640d1f2-3374-4986-8116-891f0773a5b8",
        "colab": {
          "base_uri": "https://localhost:8080/",
          "height": 290
        }
      },
      "cell_type": "code",
      "source": [
        "!ls"
      ],
      "execution_count": 0,
      "outputs": [
        {
          "output_type": "stream",
          "text": [
            "a_c_k\n",
            "c_i_z\n",
            "c_i_z1\n",
            "master.zip\n",
            "model_ger_comm_acc.0.7991967878667227_epoch.3\n",
            "model_ger_comm_acc.0.8112449789621744_epoch.1\n",
            "model_ger_comm_acc.0.8112449806378069_epoch.4\n",
            "model_ger_comm_acc.0.8152610465704676_epoch.6\n",
            "model_ger_comm_acc.0.8192771074762306_epoch.7\n",
            "model_ger_comm_acc.0.8232931717332587_epoch.5\n",
            "model_ger_comm_acc.0.8232931734088913_epoch.9\n",
            "model_ger_comm_acc.0.8232931738876434_epoch.2\n",
            "model_ger_comm_acc.0.8473895611054447_epoch.8\n",
            "sample_data\n",
            "Thesis-Data-master\n"
          ],
          "name": "stdout"
        }
      ]
    },
    {
      "metadata": {
        "id": "ZpEuHsOLf8Kn",
        "colab_type": "code",
        "colab": {}
      },
      "cell_type": "code",
      "source": [
        "files.download('XXXXX')"
      ],
      "execution_count": 0,
      "outputs": []
    },
    {
      "metadata": {
        "id": "uSvcUoRogNGf",
        "colab_type": "code",
        "colab": {}
      },
      "cell_type": "code",
      "source": [
        "model = load_model('Thesis-Data-master/model_ger_comm_acc.0.8634538181335571_epoch.12')"
      ],
      "execution_count": 0,
      "outputs": []
    },
    {
      "metadata": {
        "id": "6lzmeXvWgT2l",
        "colab_type": "code",
        "outputId": "d29f7023-0314-4905-ca89-7a9981f0cb19",
        "colab": {
          "base_uri": "https://localhost:8080/",
          "height": 163
        }
      },
      "cell_type": "code",
      "source": [
        "\n",
        "results = model.predict(X_test)\n",
        "i=0\n",
        "false_negativ=0\n",
        "true_negativ=0\n",
        "false_positv=0\n",
        "true_positv=0\n",
        "\n",
        "while i< len(results):\n",
        "  if y_test[i][0] == 0:\n",
        "    if results[i][0] > 0.5:\n",
        "      false_positv += 1\n",
        "    else:\n",
        "      true_positv += 1\n",
        "  if y_test[i][0] == 1:\n",
        "    if results[i][0] > 0.5:\n",
        "      true_negativ += 1\n",
        "    else:\n",
        "      false_negativ += 1\n",
        "  i+=1\n",
        "print(\"false_negativ\")\n",
        "print(false_negativ)\n",
        "print(\"true_negativ\")\n",
        "print(true_negativ)\n",
        "print(\"false_positv\")\n",
        "print(false_positv)\n",
        "print(\"true_positv\")\n",
        "print(true_positv)"
      ],
      "execution_count": 0,
      "outputs": [
        {
          "output_type": "stream",
          "text": [
            "false_negativ\n",
            "16\n",
            "true_negativ\n",
            "131\n",
            "false_positv\n",
            "18\n",
            "true_positv\n",
            "84\n"
          ],
          "name": "stdout"
        }
      ]
    },
    {
      "metadata": {
        "id": "mS9S2hOaryn_",
        "colab_type": "text"
      },
      "cell_type": "markdown",
      "source": [
        "Rückübersätzer"
      ]
    },
    {
      "metadata": {
        "id": "J9GRDHfXr3n9",
        "colab_type": "code",
        "outputId": "54bcab40-815c-4678-8c5b-c9451488c3eb",
        "colab": {
          "base_uri": "https://localhost:8080/",
          "height": 4601
        }
      },
      "cell_type": "code",
      "source": [
        "results = model.predict(X_test)\n",
        "fobj2 = open(\"Thesis-Data-master/c_w_t\")\n",
        "fobj = open(\"Thesis-Data-master/c_i_z\")\n",
        "list_w=[]\n",
        "\n",
        "for w in fobj2:\n",
        "  list_w.append(w.split(' ')[0])\n",
        "\n",
        "\n",
        "i=0  \n",
        "print('Sentiment; Vorhergesagt: x > 0.5 == positiv; Kommentar')\n",
        "print('0=negativ; 1=positiv')\n",
        "while i < len(X_test):\n",
        "  com = X_test[i]\n",
        "  comment = '' \n",
        "  #comment = str(int(y_test[i][1]))+';'+str(float(int(results[i][1]*10000))/10000)+';'\n",
        "  comment = str(int(y_test[i][1]))+';'+\"%f\"%results[i][1]+';'\n",
        "  for word in com:\n",
        "    if word == 0:\n",
        "      continue\n",
        "    if word == 3136:\n",
        "      word=0\n",
        "    comment = comment+ ' ' + list_w[word]\n",
        "  comment = re.sub('; ' , ';', comment)\n",
        "  print(comment)\n",
        "  i+=1"
      ],
      "execution_count": 0,
      "outputs": [
        {
          "output_type": "stream",
          "text": [
            "Sentiment; Vorhergesagt: x > 0.5 == positiv; Kommentar\n",
            "0=negativ; 1=positiv\n",
            "0;0.004471;so siehts aus\n",
            "0;0.009597;einfach nicht mehr bahn fahren\n",
            "0;0.000178;woanders rum\n",
            "1;0.998720;habe den gutschein bekommen danke für die info\n",
            "0;0.000071;schade leider nicht für dich\n",
            "1;0.998924;richtig\n",
            "0;0.002172;nimm den und lass ihn ruhig am fenster schauen und einer kümmert sich um den hund allerdings wurde ich den in ein anderes zimmer bringen damit der kleine nicht das selbe verhalten\n",
            "0;0.000871;lidl und liefern lassen von und die liefern ja aber dann an solche wo es nicht hin soll und der nicht wohnt gerade vor wochen gehabt ein kunde weniger und\n",
            "0;0.000866;den hauptbahnhof zeigen sie hier nicht weil er einen ist für deutschland ist\n",
            "1;0.999770;xd xd xd\n",
            "1;0.024065;ich kann es mir ja kaum vorstellen weil wer macht schon pommes mit einem aber selbst auf youtube die sagen das die dinger was können\n",
            "1;0.999837;das beste katzenstreu eher\n",
            "1;0.999872;ich kaufe das katzen streu von anfang an in lidl ich bin sehr zufrieden damit\n",
            "1;0.999889;am schönsten ist es doch wenn die kinder später nach der ins bett gehen und die erwachsenen mit den neuen sachen spielen\n",
            "0;0.000068;in meinen rucksack ein behältnis dass laut ihnen also ist denn niemand kommt so an meinen hund genauso wenig wie mein hund an dran kommt reine also mir erzählen zu wollen dass würde nicht\n",
            "0;0.000065;klaus sie sonnen also cent die lidl für ihr like spendet dann lieber gar keinem\n",
            "0;0.207285;kein wunder das die\n",
            "0;0.355754;schade eigentlich\n",
            "1;0.020774;aber sowas von\n",
            "0;0.005856;mehr kann man nicht dazu sagen\n",
            "0;0.001516;macht euch mal lieber um andere sachen gedanken als um so ne blöde facebook seite\n",
            "0;0.015219;fand es eigentlich gut nur leider verteilt es sich in meiner ganzen wohnung\n",
            "0;0.002863;alexander berg bei all ihren dürfen sie sich bei fahrgästen da kann das personal so viel reinigen wie es will\n",
            "1;0.999747;hammer geil\n",
            "0;0.119614;die scheiße nervt\n",
            "0;0.031222;dieser zug rechts ist so schlecht das ist eine\n",
            "0;0.001365;fuhr das es hier um geht ist mir klar aber meiner meinung nach ist es nicht die des deutschen bank sich mit spielzeug zu sondern die kunden pünktlich in wagen von nach zu fahren\n",
            "1;0.985160;fred wagner ich finde es toll das es solch leute wie dich gibt\n",
            "1;0.999806;geile den brauch\n",
            "0;0.001822;nix ihr\n",
            "0;0.998069;aber mit puderzucker drauf sind die nicht so gut weil es zwischen den und danach alles ist richtig geil sind die berliner mit zuckerguss\n",
            "0;0.000919;alexander berg was sind da da für bei euch in unterwegs in berlin siehts nicht ganz so arg aus\n",
            "0;0.000377;bitte mit und nicht mit sie bekommen bei der auch keinen wenn ihre kreditkarte abgelaufen ist also bahncard abgelaufen pech einfach zu ändern mit der des genauen lasst doch mal die kirche im dorf\n",
            "0;0.000168;ich habe an diese adresse eine mail und keine antwort erhalten\n",
            "0;0.007404;deine kinder tun mir jetzt schon leid eigene meinung gleich null arme kindheit\n",
            "0;0.864556;jörg sven na das kann ich aber nicht bestätigen auch wenn ich dos und was weiß ich für schlimme habe\n",
            "0;0.000728;und zahlen wir morgen im ice\n",
            "0;0.000134;egal sind hauptsache billig billig statt kaufen ihr habt wahrscheinlich alle nicht die über transport und gesehen guckt euch die bilder bei an mal schauen ob das billig steak noch genau so gut schmeckt\n",
            "0;0.000068;schade keine karriere für dich\n",
            "1;0.998118;genau die nur fehlt outer\n",
            "1;0.638429;ich fand das sega super mit\n",
            "0;0.001239;ach schade schon vorbei\n",
            "1;0.999627;geil die kinder werden sich freuen\n",
            "0;0.000135;bei sollte man den daumen hoch weg lassen da viele einfach nur mal so drauf\n",
            "0;0.009829;habe noch hoffnung das es\n",
            "0;0.000426;weihnachtsgeschenk wäre doch wenn ihr das endlich wieder auf die bekommt ansonsten bleibt mir nur noch zum sagen der service auf facebook ist top alles andere von der bahn ist leider nicht zu empfehlen\n",
            "0;0.000140;sind doof diese zumindest\n",
            "0;0.000334;verspätete züge\n",
            "1;0.758614;ein traum wird wahr\n",
            "1;0.999881;also es gibt einmal klumpstreu und einmal das hygienestreu ich nehme halt immer nur das hygienestreu ist sehr gut eher\n",
            "1;0.999732;das werden bestimmt schone weihnachten\n",
            "0;0.000181;wieso ich zahl dafür kann man auch was erwarten sicherheit steht bahn an aller erster stelle nur nicht in dem zug du hast auch zwei du kannst laufen anstatt zugefahren\n",
            "0;0.001448;wie wäre es wenn ihr mal allen die und zeigt so wie münchen der ist echt eine schande deutsche bahn\n",
            "1;0.999159;master black ice und vor allem bei der tiger and muss ich noch dass es sie wieder in meiner region gibt\n",
            "0;0.302482;zu und\n",
            "0;0.000631;diskriminierung\n",
            "1;0.965878;ja aber echt\n",
            "1;0.758789;der kleine ice ist süß mein kleiner hat ihn auch und gern mit ihm und für das wetter kann keiner was\n",
            "0;0.004015;katzen habe mochte ich nicht die ganze wohnung voll streu haben aber da bei katzen das klo nach tagen stinkt das man meint ich hatte es wochen nicht täglich ist das streu bei uns\n",
            "1;0.966757;ja nice hohe\n",
            "0;0.000139;dann kauf ich ab sofort bei aldi das nennt man dann wohl kunden rassismus mühe lidl\n",
            "1;0.912938;auf jeden fall\n",
            "1;0.999080;ich bin mit der db bahn sehr zu frieden die haben mir immer gut geholfen hier bei facebook\n",
            "0;0.000251;katja klein des kommt aufs raus ob ich die tiere oder sterben weil der zerstört wird\n",
            "0;0.000066;delta carl das ist gehen alle ihren normalen weg und zwar oder online aber auf grund von nicht das vorstellungsgespräch findet auch nur auf grund der bewerbung und nicht auf sagen statt\n",
            "1;0.998576;der ist voll cool aber meinst du den gibts in meiner große\n",
            "0;0.000144;schade dann wird das wohl nichts aus deiner karriere bei lidl\n",
            "1;0.828310;das ware echt mal ne idee\n",
            "0;0.022252;bekommst du es nicht mit jeden tag mit toten etc off\n",
            "0;0.000069;bin ich froh dass ich bei lidl nicht mehr arbeite und schon bei der konkurrenz habe eure billigen preise nutzen wenig bei dieser billige preise mitarbeiter\n",
            "0;0.000576;jetzt hat es black endlich geschafft jetzt gibt es das zeug bei lidl endlich hat der einen platz zwischen und käse gefunden\n",
            "1;0.999808;beste streu überhaupt und für den preis einfach hammer\n",
            "0;0.000125;diesen an sich sehr gut allerdings die große bei verhältnis ig schnell ihren dienst der rest fangt langsam an vor sich hin zu funktioniert aber noch er er und er nuss alle noch vorhanden\n",
            "0;0.000257;die werbung sollte euch das wert sein und könnt ihr es auch und somit habt ihr auch noch also macht mal ein paar locker\n",
            "0;0.022976;fragt mal in bad was die leute von eurer halten der bahn zu was soll das\n",
            "0;0.475938;da in diesem fall eine des ist es nicht ihr\n",
            "0;0.017091;uff lidl supreme\n",
            "1;0.999316;wenn die katze aus dem klo raus kommt dass sie den streu mit in die wohnung verteilt aber dafür hat man ja den staubsauger bzw für mich persönlich reicht ein karton für drei wochen\n",
            "1;0.999419;das streu ist super es staudt nicht und ist einfach toll von der her gibt es das liter jetzt\n",
            "0;0.000075;und einen an den der db nicht nur bei verspätungen das gehalt von in die sondern je fehler das gehalt und damit es nicht so schlimm wird kann man das ja auf pro stunde\n",
            "1;0.997220;kaffee oder auch cappuccino schoko aber das schmeckt aus fast jeder tasse gut\n",
            "0;0.000460;aber leider wahr\n",
            "0;0.000067;dann solltest du mal lesen lernen steht auf den gläsern immer drauf\n",
            "1;0.994666;berliner xd bin zwar berliner hab mir das aber von den hessen denn das ist kein pfannkuchen xd ich kann nachvollziehen dass meine eierkuchen bei manchen bayern pfannkuchen heißen aber nicht das xd\n",
            "1;0.999837;kong strong\n",
            "0;0.025567;du hast doch keine ahnung\n",
            "0;0.014788;da merkt man wieder wie dumm essen macht man kann für tiere keine empfinden nur kann man nur für die gleiche empfinden\n",
            "0;0.293098;von den her kommt oder hergestellt wird mal nachgedacht wo euer strom für usw herkommt mal nachgedacht wer eure klamotten mal nachgedacht wie eure hergestellt werden oder wo der dafür herkommt aber über palmöl\n",
            "1;0.985170;fahre jeden tag hin und zurück macht lidl lohnt sich also wer keine ahnung hat ruhe im dom\n",
            "0;0.004546;meyer na wenn der kunde der das mit sich machen finde sowas ist ja wie im theater ein theater\n",
            "1;0.996084;saskia ware nice\n",
            "1;0.986716;stimmt\n",
            "1;0.999855;das ist das beste katzenstreu des es gibt ich habe so viele probiert aber das ist einfach spitze\n",
            "1;0.129637;kauf mir den\n",
            "0;0.007152;du mir doch auch du\n",
            "1;0.999641;kauf ich immer bei lidl das ist das beste\n",
            "1;0.997229;ok\n",
            "0;0.146234;achso aktiv also dann max die also\n",
            "1;0.002825;danke xd ich hoffe das in mülheim wird schnell wieder gemacht das umsteigen in duisburg ist echt keine alternative\n",
            "0;0.986367;ich es auch\n",
            "1;0.990830;ich freue mich schon auf das\n",
            "0;0.000123;seit wann machst werbung für lidl\n",
            "0;0.002805;wird wohl nichts mit lidl\n",
            "0;0.000367;ganz sicher nicht noch nicht einmal zum wurde ich den anziehen\n",
            "0;0.000510;sie wie viele davon nicht ausreichend geschützt sind\n",
            "0;0.000093;deswegen gibts für die kunden dieses jahr keinen online adventskalender schade\n",
            "0;0.999704;elke hamburger weder ich noch mein mann wurden so ein ding anziehen find die solo albern\n",
            "0;0.000440;gebt mir lieber die wieder aber an der musste sich ja auch lidl schon mal mit der papiertüte im regen fahrrad gefahren\n",
            "0;0.369620;maria man muss es nicht es wird über jedes katzenstreu meiner katze gehts gut sie fehlt sich wohl und ist\n",
            "1;0.989867;sauber\n",
            "0;0.000788;dein pech interessiert keinen\n",
            "1;0.993352;geil der pulli gefallt mir\n",
            "1;0.999874;carsten ich hab mir einfach xd für männer gekauft\n",
            "0;0.000072;ich habe probleme mit meinem stand mixer angerufen habe ich bereits bei kundenservice und sie wollten sich wieder melden bis jetzt immer noch keine rückmeldung erhalten\n",
            "1;0.999815;das allerbeste katzenstreu sind die silikat nix anderes\n",
            "0;0.000082;sind mal hinter die schauen wie groß das thema bahn eigentlich ist und was das ganze system aber das machen leider die meckern und ist einfacher wisst ihr was macht es dann doch besser\n",
            "0;0.997293;bin ich leider gar kein fan von die sieht man einfach zu sehr dann staudt es mir auch einfach zu doll der setzt sich überall ab nicht nur in der toilette\n",
            "0;0.036580;eines facebook service würde ich einen pünktlichkeit der züge strecke bevorzugen\n",
            "0;0.000318;steher was bist du eigentlich für eine nuss es kann dir schieße egal sein was der mensch macht an weihnachten dir vor ich arbeite lieber an den tagen weil ich von der nichts halte\n",
            "1;0.999824;meiner hat den ice auch xd ich find den total süß\n",
            "0;0.994624;ah not\n",
            "0;0.000288;ehre genommen was für hunde\n",
            "0;0.000064;der ist rum uhr morgens sowie so der handyticket kauf über funktioniert dennoch nicht und nein die kann ich nicht nutzen\n",
            "0;0.000139;einen kommentar mal gucken ob er überhaupt veröffentlicht wird gerade in der nach und musste mit feststellen dass alle toiletten defekt sind klasse service volt sollte man die züge prüfen bevor sie eingesetzt werden\n",
            "0;0.000081;db sollte verboten werden solch ein\n",
            "0;0.886663;erwartet ihr beide also demnächst die\n",
            "0;0.013725;warum nur cent habt ihr so viele\n",
            "1;0.976082;erika stimmt genau\n",
            "0;0.004884;funktioniert so lange nicht bis die menschen sich wieder können und mit ware umgehen\n",
            "1;0.683158;und er wurde auch in augsburg gefunden ich konnte dann den rucksack in kempten der mitarbeiter in kempten war super danke an dem mitarbeiter in augsburg und an den netten mitarbeiter dann in kempten\n",
            "1;0.999882;das beste katzenstreu was wir je hatten\n",
            "1;0.466197;den ist oh ja gutes zeug aber ich wurde es vorher dann hat man mehr davon\n",
            "0;0.006942;jörg ja die frau merkel wird sich sicher sehr bei ihnen was das deutsch grammatik\n",
            "0;0.161111;mich bitte schwarz\n",
            "1;0.999885;das video ist euch echt gelungen bin total in diesem sinne ich allen mitarbeitern von lidl eine schone weihnachtszeit und schone\n",
            "0;0.006558;was ist da denn los\n",
            "1;0.212080;na mensch danke\n",
            "0;0.077564;wenn hier einer ein lauch ist dann ist es der\n",
            "0;0.001748;wann wohl penny seinen senf gibt\n",
            "0;0.583155;zu spät bekomm ein\n",
            "1;0.996527;das video ist als tipp an die kollegen auch lidl konnte man zum schluss bringen\n",
            "1;0.985007;ja jaja\n",
            "1;0.999862;kong strong pulli\n",
            "1;0.991189;genau\n",
            "1;0.999594;ich nehme es nur von lidl\n",
            "1;0.999720;die tasse ist ja schon\n",
            "0;0.006589;jörg nein\n",
            "0;0.352282;ja lach du nur\n",
            "1;0.001116;frische ware ja und ich schütze auch die artikel hoffe auf viele limes teile gerne damit für den guten zweck ordentlich was zusammen kommt soweit ich weis zahlt lidl auch seine gut like lidl\n",
            "0;0.000363;du bist ein fall kann mir nicht vorstellen dass du eine frau hast\n",
            "0;0.000260;einen schein bekommst du\n",
            "1;0.998290;gekauft\n",
            "0;0.995390;das ist von edeka ich kann auch nichts für meinen\n",
            "1;0.670375;team saskia\n",
            "0;0.000177;gepostet werden kann keiner mehr richtig schreiben oder sprechen wir spenden für dein like hallo das ist ja wohl mehr als falsch manchmal es mir wenn ich sehe dass keiner mehr seine sprache richtig\n",
            "0;0.011714;genau ich lege die weihnachtsgeschenke einfach unter einen wie\n",
            "1;0.998914;ich hab grad auch einen sparpreis von osnabrück hamburg für gute gebucht ic günstiger geht es tatsächlich schon fast nicht mehr xd\n",
            "0;0.000100;blödsinn herr\n",
            "0;0.000327;stefan aber würden schon freuen wenn ihnen beim koffer geholfen wird bei ist das der fall\n",
            "1;0.999797;gibt nix besseres als hast best öko plus bis jetzt war jeder zufrieden mit meiner nie mehr was anderes\n",
            "1;0.999525;ich bin super zufrieden damit und meine katze auch\n",
            "1;0.000085;vergessen die urlaubstage wie gesagt die vielen sich letztlich als start in eine neue denn letztendlich will der einzelhandel nicht erfahrung oder wissen dort sucht man und junge leute lauch wurde auch nur brechen\n",
            "0;0.000354;und schon verspätungen zwischen und hamburg dem kunden für einmal service zu bieten\n",
            "0;0.005559;zu dir passt eher der name kevin\n",
            "1;0.999360;ey grad noch von gemacht für\n",
            "0;0.223637;deswegen kaufe ich dort auch nichts für meine jungs total\n",
            "0;0.000125;das als pfannkuchen zu bezeichnen ist eine beleidigung für alle pfannkuchen durch\n",
            "1;0.998864;der ist mea und klasse klasse klasse\n",
            "0;0.000295;schlimmste essen überhaupt aber sind ja eh nur da isst das hoffentlich keiner heiligabend gehts ins restaurant und keiner kommt bitte mit und nach darf man sich dann gern\n",
            "0;0.493309;so geht die bahn also mit fahrgästen um\n",
            "0;0.020329;hab ich nicht gelesen\n",
            "0;0.796071;was hat dein einkauf bei lidl mit dem video zu tun\n",
            "1;0.992397;der duft einfach herrlich\n",
            "0;0.000780;ein geschäft weil die kunden in der bahn welche irgendwo im steht\n",
            "1;0.025330;man wenn man arbeiten geht nichts von den angeboten hat die sind meistens schon weg und die antwort man konnte auch online bestellen zahlt für mich nicht manche dinge mochte man sich vor ort\n",
            "1;0.999320;da kommen doch alle gut mit klar sonst wurde das doch keiner kaufen\n",
            "1;0.998265;ist solo\n",
            "1;0.042001;julia bauer so ist es\n",
            "1;0.998923;perfekt\n",
            "0;0.000132;lasst die baume im stehen verdammt nochmal\n",
            "0;0.000088;das deutsche finde ich ekelhaft daher trifft das bild auf mich zu auch beim wissen\n",
            "0;0.000141;zu einem wo züge verspätung haben\n",
            "1;0.999728;aus unserer leider osnabrück xd aber muss man xd\n",
            "1;0.986932;das beste streu\n",
            "1;0.194053;da sparen wir uns die von hamburger\n",
            "1;0.997698;ich mag die pfannkuchen mit zucker zuckerguss ist mir zu zu\n",
            "0;0.059466;das wird aber auch zeit\n",
            "1;0.833330;ich habe so einen in weil mit rosa herzen ich hatte nie gedacht das die so sind darin fehlt man sich wieder klein\n",
            "0;0.000920;ich hoffe wollte nett demnächst beim lidl anfangen\n",
            "1;0.993460;also mal xd\n",
            "1;0.999461;granada war wirklich so toll\n",
            "0;0.101298;bei wer ist hier der\n",
            "1;0.253732;ach\n",
            "0;0.126300;konnte schon sein tun mir die verkaufen leid die jeden advent arbeiten müssen und kaum zeit haben außerdem wenn ich die kinder in den von krieg und welt sehe wünsche ich mir etwas anderes\n",
            "1;0.978088;cool der passt super zu meiner nur echt mit\n",
            "1;0.059193;dann sind wir uns wir sind dann egal wo wir sind der\n",
            "0;0.000066;was ihr ist ne beleidigung sagt mal kommen eure auch immer zu spät auf arbeit genau so wie eure züge ich fahre lieber mit dem bus ist erstens billiger und kommt der wenigstens pünktlich\n",
            "0;0.000065;wie kann es bitte schön sein dass man wegen einer falsch für eine ticket stornierung zahlen muss eigentlich dürfte ja mein name und meine adresse um mich\n",
            "0;0.000093;somit kannst du da schon mal nicht arbeiten\n",
            "1;0.999880;ich kaufe seit jahren dieses katzenstreu finde es sehr klasse und wurde kein anderes mehr kaufen\n",
            "1;0.000098;dafur ist aldi das ganze jahr günstiger\n",
            "1;0.998770;hallo monika danke für dein feedback mit dieser spendenaktion wollten wir euch als community aktiv miteinbeziehen alle weiteren infos und was wir sonst noch so tun findest du hier viele grüße dein\n",
            "0;0.000507;versteh gar nicht warum\n",
            "0;0.002332;die länder tickets in niedersachsen zum beispiel das gelten auch in den als fahrkarte für bus und bahn aber sich einfach mal informieren bevor man wäre ja auch zu einfach nicht wahr liebe susanne\n",
            "0;0.000121;das weiß ich nicht sinnvoller wäre es mal die in frankfurt süd zu bevor man die zustände dort endlich ändert\n",
            "0;0.000102;sorry es ware dir ja gewesen\n",
            "0;0.000672;eugen klein dich ein und schau die welt von unten an bei deiner haus doch die vergessen drum depp\n",
            "0;0.022754;es ist schade man kann es nicht in der toilette entsorgen\n",
            "0;0.000070;lieber herr thomas koch leider hatte ich bis jetzt sehr selten das glück dass die bahn keine verspätung hatte heute min anschluss verpasst anfang dezember kam ich zum bahnhof und der zug ist ganz\n",
            "0;0.000065;kratzbaum von discountern sind mull jeden davon ab lieber ein paar euro mehr ausgeben dafür halten sie lange halte ich für übertrieben bei zoo plus gibt es schon tolle kratzbaum für wenig geld\n",
            "0;0.000113;evelyn weiß frag lieber mal nach warum die johanniter nicht mehr unterstützt werden\n",
            "1;0.999376;das war nur spaß hause\n",
            "0;0.000112;laden und gemüse und obst das gibt es bei anderen nicht\n",
            "1;0.944089;haben wir auch\n",
            "1;0.995350;das gleiche wollte ich auch schreiben durch werden immer viel langer als ohne\n",
            "0;0.999828;ich hab ne katze die wird vom cats best\n",
            "1;0.769318;freeway\n",
            "0;0.000064;gebe ich kein geld aus überall menschen kinder aber leute gehen auf kaufen bucher gehen zu spielen regeln ig essen alles ist außer kleidung essen trinken und also durfte man dafür auch nichts ausgeben\n",
            "1;0.566892;ich hab dann sogar frei\n",
            "1;0.010956;kauf ich wenn du es für dich und jo kaufst\n",
            "0;0.000297;von wem war euer erster lidl aldi seid mal ehrlich zu euch selber\n",
            "0;0.015848;ach echt und ich dachte was die leute im internet erzählen stimmt immer\n",
            "0;0.000257;wenn ihr im nur halb so gut wie hier wäre das schonmal eine ich erinnere an die letzten tage bahnfahrt\n",
            "1;0.000065;klump gut riecht gut schlechte und staudt nicht so wie andere marken vor allem es kein was für menschen und tiere nicht gut für die ist beim\n",
            "1;0.999865;ja fidel konnte das auch aber lidl macht es eben\n",
            "1;0.971056;ei sau geil\n",
            "0;0.000825;ich habe gestern gekauft gleich probieren und leider konnte nicht minuten hat funktioniert und dann ging es nicht mehr ich muss heute zurück bringen ich bin enttäuscht\n",
            "0;0.968471;alles falsch krebsen\n",
            "1;0.996735;doch lecker in\n",
            "1;0.458456;auf jeden\n",
            "0;0.000426;schlimm das alle für paar cent stunden und im selben raum schlafen müssen von wegen fair papier ist\n",
            "0;0.923308;lidl ist\n",
            "1;0.963851;jens vogel danke meine letzte\n",
            "0;0.002710;und weil weihnachten ist geh ich einfach an deinem zimmer vorbei und lass dich in deinem liegen so hast es jetzt weil ich will ja auch weihnachten feiern gel da bleiben die auch zu\n",
            "1;0.901010;wissen sie eigentlich wie viele züge die db täglich pünktlich durch das land für die mails mit dem gibt es heutzutage bin oft mit zügen unterwegs und sehr zufrieden\n",
            "1;0.999804;dankeschön mail ist raus\n",
            "0;0.003638;was ist denn ein boogie dachte da ware ein dieses sprache\n",
            "0;0.875883;liegt bei nur tonnen besonders für soja und konsole musste in den noch viel mehr werden weil die pflanzen in erster linie dort werden so wurden wiederum große mengen an co zusätzlich und der\n",
            "0;0.002476;nur wir haben euro bezahlt für eine nicht leistung aufgrund eines haben wir ihn dann mit dem auto zum gefahren warum hier keine und erstattung erfolgt ist ein rätsel hat jemand ähnliche erfahrungen gemacht\n",
            "1;0.999670;ja so habe ich es geschrieben xd\n",
            "0;0.001390;also ich versteh euer rum nett gibt nix besseres wie des original stella alles kommt nett bei mir tisch\n",
            "0;0.994484;kim daniel arme katze was soll sie mit duft\n",
            "0;0.999843;und das ist gut so ich bin mir sicher dass die anderen jede menge freude an dir und deinem haben\n",
            "1;0.578400;das ding ist genial wird alles schon knusprig habe sogar schon brot darin gebacken\n",
            "0;0.023208;ein herz gibt es aber keinen job\n",
            "0;0.000133;in immenstadt am bahnhof total und dort zumindest im jahr da habt ihr ja ein gutes foto gefunden auf dem man das nicht wirklich sieht sollte es mittlerweile immer noch so sein wie damals\n",
            "0;0.012696;nur kurz auf dem kleinen ice geschenk in und von der bahn herum schon war die farbe ab der kleine ice in den was ist das für ein sieht übrigens tatsächlich aus wie ein\n",
            "0;0.000083;jetzt den heul smiley wenn ihr auch der meinung seid dass das normale sortiment besser ist als wie das deluxe sortiment kann mal jemand den raus holen sind schon wieder eindeutig zu viele unterwegs\n",
            "1;0.000765;hey not you mit train was\n"
          ],
          "name": "stdout"
        }
      ]
    }
  ]
}