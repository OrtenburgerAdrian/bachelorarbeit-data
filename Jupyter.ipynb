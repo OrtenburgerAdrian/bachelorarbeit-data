{
  "nbformat": 4,
  "nbformat_minor": 0,
  "metadata": {
    "colab": {
      "name": "Jupyter.ipynb",
      "version": "0.3.2",
      "provenance": [],
      "collapsed_sections": []
    },
    "kernelspec": {
      "name": "python3",
      "display_name": "Python 3"
    }
  },
  "cells": [
    {
      "metadata": {
        "id": "DulrMsH7ctGp",
        "colab_type": "text"
      },
      "cell_type": "markdown",
      "source": [
        "## Init\n",
        "\n"
      ]
    },
    {
      "metadata": {
        "id": "Zgp4nvHRcq2A",
        "colab_type": "code",
        "colab": {}
      },
      "cell_type": "code",
      "source": [
        "!wget https://github.com/OrtenburgerAdrian/bachelorarbeit-data/archive/master.zip\n",
        "!unzip master.zip\n",
        "\n",
        "import re\n",
        "import string\n",
        "from google.colab import files\n",
        "\n",
        "import numpy as np\n",
        "import os\n",
        "import subprocess\n",
        "import matplotlib.pyplot as plt\n",
        "from sklearn.model_selection import train_test_split\n",
        "\n",
        "from keras.models import Sequential\n",
        "from keras import Sequential\n",
        "from keras.preprocessing import sequence\n",
        "from keras.models import load_model\n",
        "from keras.layers import Embedding, LSTM, Dense, Dropout\n"
      ],
      "execution_count": 0,
      "outputs": []
    },
    {
      "metadata": {
        "id": "vAfJY8LaJVph",
        "colab_type": "code",
        "colab": {}
      },
      "cell_type": "code",
      "source": [
        "!ls ./Thesis-Data-master/"
      ],
      "execution_count": 0,
      "outputs": []
    },
    {
      "metadata": {
        "id": "--TTIfqWc_T3",
        "colab_type": "text"
      },
      "cell_type": "markdown",
      "source": [
        "##Löschen doppelter Zeilen "
      ]
    },
    {
      "metadata": {
        "id": "wdoRw0a7dHoV",
        "colab_type": "code",
        "colab": {}
      },
      "cell_type": "code",
      "source": [
        "string = ''\n",
        "fobj = open(\"bachelorarbeit-data-master/a_c_k\")\n",
        "lines = fobj.readlines()\n",
        "lines = sorted(lines)\n",
        "fobj_out = open(\"a_c_k\",\"w\")\n",
        "for line in lines:\n",
        "    if string == line.rstrip():\n",
        "        print(line.rstrip())\n",
        "    else:\n",
        "        fobj_out.write(line)\n",
        "    string = line.rstrip()\n",
        "fobj.close()\n",
        "fobj_out.close()\n"
      ],
      "execution_count": 0,
      "outputs": []
    },
    {
      "metadata": {
        "id": "MDammfVndQge",
        "colab_type": "text"
      },
      "cell_type": "markdown",
      "source": [
        "##erstellen einer ID-Tabelle "
      ]
    },
    {
      "metadata": {
        "id": "HIeVwxXddVIK",
        "colab_type": "code",
        "colab": {}
      },
      "cell_type": "code",
      "source": [
        "fobj = open(\"bachelorarbeit-data-master/a_w_k\")\n",
        "list_w=[]\n",
        "list_z=[]\n",
        "\n",
        "for line in fobj:\n",
        "  line = re.sub('\\n' , '', line)\n",
        "  if line in list_w:\n",
        "    list_z[list_w.index(line)] += 1 \n",
        "  else:\n",
        "    list_w.append(line)\n",
        "    list_z.append(1)\n",
        "    \n",
        "\n",
        "fobj_out = open(\"c_w_t\",\"w\")\n",
        "\n",
        "\n",
        "for x in list_w:\n",
        "  if list_z[list_w.index(x)]<3:\n",
        "    i=list_w.index(x)\n",
        "    list_w[i]=''\n",
        "    list_z[i]=0\n",
        "  \n",
        "i=0   \n",
        "for x in list_w:\n",
        "  if x=='':\n",
        "    continue\n",
        "  fobj_out.write(str(x)+' '+str(i)+' '+str(list_z[list_w.index(x)])+'\\n')\n",
        "  i+=1\n",
        "fobj_out.close()\n",
        "fobj.close() "
      ],
      "execution_count": 0,
      "outputs": []
    },
    {
      "metadata": {
        "id": "O8SLjLrJ0R5M",
        "colab_type": "code",
        "colab": {}
      },
      "cell_type": "code",
      "source": [
        "!cat c_w_t"
      ],
      "execution_count": 0,
      "outputs": []
    },
    {
      "metadata": {
        "id": "Sg_EJ_1CddBX",
        "colab_type": "text"
      },
      "cell_type": "markdown",
      "source": [
        "## Kommentare mit ID-Tabelle übersätzen"
      ]
    },
    {
      "metadata": {
        "id": "LwkxTbszdbZ3",
        "colab_type": "code",
        "colab": {}
      },
      "cell_type": "code",
      "source": [
        "fobj_out = open(\"c_i_z1\",\"w\")\n",
        "fobj2 = open(\"bachelorarbeit-data-master/c_w_t\")\n",
        "fobj = open(\"bachelorarbeit-data-master/a_c_k\")\n",
        "list_w=[]\n",
        "for w in fobj2:\n",
        "  list_w.append(w.split(' ')[0])\n",
        "for line in fobj:\n",
        "  worter = line.split(';')[1].split(' ')\n",
        "  x=''\n",
        "  for wort in worter:\n",
        "    wort = re.sub('\\n' , '', wort)\n",
        "    wort = wort.lower()\n",
        "    if wort in list_w:\n",
        "      if list_w.index(wort)==0:\n",
        "        index = 3136\n",
        "      else:\n",
        "        index = list_w.index(wort)\n",
        "      x=x+str(index)+' '\n",
        "  fobj_out.write(str(line.split(';')[0])+';'+ x+'\\n')\n",
        "  \n",
        "string = ''\n",
        "fobj = open(\"c_i_z1\")\n",
        "lines = fobj.readlines()\n",
        "lines = sorted(lines)\n",
        "fobj_out = open(\"c_i_z\",\"w\")\n",
        "for line in lines:\n",
        "    if line.split(';')[1] != '\\n':\n",
        "\n",
        "        if string == line.rstrip():\n",
        "            print(line.rstrip())\n",
        "        else:\n",
        "            fobj_out.write(line)\n",
        "    string = line.rstrip()\n",
        "fobj.close()\n",
        "fobj_out.close()"
      ],
      "execution_count": 0,
      "outputs": []
    },
    {
      "metadata": {
        "id": "gNRCdu4O0f9w",
        "colab_type": "code",
        "colab": {}
      },
      "cell_type": "code",
      "source": [
        "!cat c_i_z"
      ],
      "execution_count": 0,
      "outputs": []
    },
    {
      "metadata": {
        "id": "VxEtjIhOdmna",
        "colab_type": "text"
      },
      "cell_type": "markdown",
      "source": [
        "##Berechnung der benötigten Kommentare länge"
      ]
    },
    {
      "metadata": {
        "id": "3k0XVHwzdnGu",
        "colab_type": "code",
        "outputId": "630ee51f-4894-4ac0-f536-c908d8b8d76b",
        "colab": {
          "base_uri": "https://localhost:8080/",
          "height": 35
        }
      },
      "cell_type": "code",
      "source": [
        "prozent = 90 # so viele Prozent wie gewüscht sind \n",
        "\n",
        "fobj = open(\"bachelorarbeit-data-master/c_i_z\")\n",
        "a = []\n",
        "i = 0\n",
        "while i < 1000:\n",
        "  a.append(0)\n",
        "  i += 1\n",
        "for x in fobj:\n",
        "  a[len( x.split(';')[1].split(' '))]+=1\n",
        "fobj.close()\n",
        "i = 0\n",
        "for x in a:\n",
        "  i = i + x \n",
        "y = 0\n",
        "u = 0\n",
        "while u <len(a):\n",
        "  y = y + a[u]\n",
        "  if y / i * 100 > prozent:\n",
        "    print (u)\n",
        "    break\n",
        "  u += 1"
      ],
      "execution_count": 19,
      "outputs": [
        {
          "output_type": "stream",
          "text": [
            "34\n"
          ],
          "name": "stdout"
        }
      ]
    },
    {
      "metadata": {
        "id": "pQqtH_0Gdrf9",
        "colab_type": "text"
      },
      "cell_type": "markdown",
      "source": [
        "##Übertragung des Sentimentwertes in ein Array "
      ]
    },
    {
      "metadata": {
        "id": "PBVr_skTdsHg",
        "colab_type": "code",
        "outputId": "1e125634-72cf-44f2-f688-2a9fa6e8ad8d",
        "colab": {
          "base_uri": "https://localhost:8080/",
          "height": 35
        }
      },
      "cell_type": "code",
      "source": [
        "fobj = open(\"bachelorarbeit-data-master/c_i_z\")\n",
        "lines = fobj.readlines()\n",
        "Y=[]\n",
        "for line in lines:\n",
        "  if line.split(';')[1] == \"\\n\":\n",
        "    continue\n",
        "  if line.split(';')[0] == \"0\":\n",
        "    Y.extend([[1, 0]])\n",
        "  if line.split(';')[0] == \"1\":\n",
        "    continue\n",
        "  if line.split(';')[0] == \"2\":\n",
        "    Y.extend([[0, 1]])\n",
        "\n",
        "fobj.close()\n",
        "y = np.array(Y, dtype=float)\n",
        "print(y.shape)"
      ],
      "execution_count": 0,
      "outputs": [
        {
          "output_type": "stream",
          "text": [
            "(2485, 2)\n"
          ],
          "name": "stdout"
        }
      ]
    },
    {
      "metadata": {
        "id": "wdhJewmWdxop",
        "colab_type": "text"
      },
      "cell_type": "markdown",
      "source": [
        "##Übertragung des Kommmentars (Zahlenkolonne) in ein Array "
      ]
    },
    {
      "metadata": {
        "id": "GuCGt2IDd0yd",
        "colab_type": "code",
        "colab": {}
      },
      "cell_type": "code",
      "source": [
        "fobj = open(\"bachelorarbeit-data-master/c_i_z\")\n",
        "list_c=[]\n",
        "for line in fobj:\n",
        "  list_w=[]\n",
        "  line = re.sub('\\n' , '', line)\n",
        "  if line.split(';')[1] == \"\":\n",
        "    continue  \n",
        "  if line.split(';')[0] == \"1\":\n",
        "    continue\n",
        "  words = line.split(';')[1].split(' ')\n",
        "  for word in words:\n",
        "    try:\n",
        "      if int(word) == 0: \n",
        "        word= 1316\n",
        "      list_w.append(int(word))\n",
        "    except:\n",
        "      continue\n",
        "  list_c.append(list_w)\n",
        "print (len(list_c))"
      ],
      "execution_count": 0,
      "outputs": []
    },
    {
      "metadata": {
        "id": "3tsRMZ97eb9p",
        "colab_type": "text"
      },
      "cell_type": "markdown",
      "source": [
        "##Aufteillung in Test-, Trainings-, und Validirungsdaten ."
      ]
    },
    {
      "metadata": {
        "id": "UZzuVa57egKz",
        "colab_type": "code",
        "colab": {}
      },
      "cell_type": "code",
      "source": [
        "max_words = 34\n",
        "validierungsdaten=50\n",
        "\n",
        "#aufteilen in Test- und Trainingsdaten\n",
        "X_train,X_test,y_train,y_test=train_test_split(\n",
        "    list_c, y,test_size=0.10, random_state = 1)\n",
        "\n",
        "#Kürzung bzw. Erweiterung der Kommentare auf die maximale Länge.\n",
        "X_train = sequence.pad_sequences(X_train, maxlen=max_words)\n",
        "X_test = sequence.pad_sequences(X_test, maxlen=max_words)\n",
        "\n",
        "#Aufteilung in Trainings- und Validierungsdaten\n",
        "X_valid, y_valid = X_train[:validierungsdaten], y_train[:validierungsdaten]\n",
        "X_train, y_train = X_train[validierungsdaten:], y_train[validierungsdaten:]"
      ],
      "execution_count": 0,
      "outputs": []
    },
    {
      "metadata": {
        "id": "ju9f8rpqejdB",
        "colab_type": "text"
      },
      "cell_type": "markdown",
      "source": [
        "## Das LSTM"
      ]
    },
    {
      "metadata": {
        "id": "Et1YfPB_ekqY",
        "colab_type": "code",
        "colab": {}
      },
      "cell_type": "code",
      "source": [
        "embedding_size=32\n",
        "library=3137\n",
        "max_words= 34\n",
        "\n",
        "model=Sequential()\n",
        "model.add(Embedding(library, embedding_size, input_length=max_words))\n",
        "model.add(LSTM(2))\n",
        "model.add(Dropout(0.25))\n",
        "#model.add(Dense(2, activation='sigmoid'))\n",
        "model.add(Dense(2, activation='softmax'))\n",
        "print(model.summary())\n",
        "model.compile(loss='binary_crossentropy', \n",
        "             optimizer='adam', \n",
        "             metrics=['accuracy'])"
      ],
      "execution_count": 0,
      "outputs": []
    },
    {
      "metadata": {
        "id": "-PZH__BRf35F",
        "colab_type": "text"
      },
      "cell_type": "markdown",
      "source": [
        "## Training"
      ]
    },
    {
      "metadata": {
        "id": "7V7cNnOse9H_",
        "colab_type": "code",
        "colab": {}
      },
      "cell_type": "code",
      "source": [
        "i=1\n",
        "while i<200:\n",
        "  model.fit(X_train, y_train, validation_data=(X_valid, y_valid), \n",
        "                                          batch_size=1, epochs=1)\n",
        "  scores = model.evaluate(X_test, y_test, verbose=0)\n",
        "  print('Test accuracy:', scores[1])\n",
        "  model.save('modell_acc.'+str(scores[1])+'_epoch.'+str(i))\n",
        "  i+=1"
      ],
      "execution_count": 0,
      "outputs": []
    },
    {
      "metadata": {
        "id": "NIh68InOthj9",
        "colab_type": "code",
        "colab": {}
      },
      "cell_type": "code",
      "source": [
        "!ls"
      ],
      "execution_count": 0,
      "outputs": []
    },
    {
      "metadata": {
        "id": "IoBxg7NA4ai0",
        "colab_type": "text"
      },
      "cell_type": "markdown",
      "source": [
        "## Download eines Modells"
      ]
    },
    {
      "metadata": {
        "id": "ZpEuHsOLf8Kn",
        "colab_type": "code",
        "colab": {}
      },
      "cell_type": "code",
      "source": [
        "files.download('XXXXX')"
      ],
      "execution_count": 0,
      "outputs": []
    },
    {
      "metadata": {
        "id": "5h_rB4h_4XR-",
        "colab_type": "text"
      },
      "cell_type": "markdown",
      "source": [
        "## Laden eines Modells "
      ]
    },
    {
      "metadata": {
        "id": "uSvcUoRogNGf",
        "colab_type": "code",
        "colab": {}
      },
      "cell_type": "code",
      "source": [
        "model = load_model('bachelorarbeit-data-master/modell_acc.0.8634538181335571_epoch.12')"
      ],
      "execution_count": 0,
      "outputs": []
    },
    {
      "metadata": {
        "id": "XmMlrEsDzzOo",
        "colab_type": "text"
      },
      "cell_type": "markdown",
      "source": [
        "## Auswertung der Ergebnisse"
      ]
    },
    {
      "metadata": {
        "id": "6lzmeXvWgT2l",
        "colab_type": "code",
        "colab": {}
      },
      "cell_type": "code",
      "source": [
        "\n",
        "results = model.predict(X_test)\n",
        "i=0\n",
        "false_negativ=0\n",
        "true_negativ=0\n",
        "false_positv=0\n",
        "true_positv=0\n",
        "\n",
        "while i< len(results):\n",
        "  if y_test[i][0] == 0:\n",
        "    if results[i][0] > 0.5:\n",
        "      false_positv += 1\n",
        "    else:\n",
        "      true_positv += 1\n",
        "  if y_test[i][0] == 1:\n",
        "    if results[i][0] > 0.5:\n",
        "      true_negativ += 1\n",
        "    else:\n",
        "      false_negativ += 1\n",
        "  i+=1\n",
        "print(\"false_negativ\")\n",
        "print(false_negativ)\n",
        "print(\"true_negativ\")\n",
        "print(true_negativ)\n",
        "print(\"false_positv\")\n",
        "print(false_positv)\n",
        "print(\"true_positv\")\n",
        "print(true_positv)"
      ],
      "execution_count": 0,
      "outputs": []
    },
    {
      "metadata": {
        "id": "mS9S2hOaryn_",
        "colab_type": "text"
      },
      "cell_type": "markdown",
      "source": [
        "## Rückübersätzer"
      ]
    },
    {
      "metadata": {
        "id": "J9GRDHfXr3n9",
        "colab_type": "code",
        "colab": {}
      },
      "cell_type": "code",
      "source": [
        "results = model.predict(X_test)\n",
        "fobj2 = open(\"bachelorarbeit-data-master/c_w_t\")\n",
        "fobj = open(\"bachelorarbeit-data-master/c_i_z\")\n",
        "list_w=[]\n",
        "\n",
        "for w in fobj2:\n",
        "  list_w.append(w.split(' ')[0])\n",
        "i=0  \n",
        "print('Sentiment; Vorhergesagt: x > 0.5 == positiv; Kommentar')\n",
        "print('0=negativ; 1=positiv')\n",
        "while i < len(X_test):\n",
        "  com = X_test[i]\n",
        "  comment = '' \n",
        "  comment = str(int(y_test[i][1]))+';'+\"%f\"%results[i][1]+';'\n",
        "  for word in com:\n",
        "    if word == 0:\n",
        "      continue\n",
        "    if word == 3136:\n",
        "      word=0\n",
        "    comment = comment+ ' ' + list_w[word]\n",
        "  comment = re.sub('; ' , ';', comment)\n",
        "  print(comment)\n",
        "  i+=1"
      ],
      "execution_count": 0,
      "outputs": []
    },
    {
      "metadata": {
        "id": "uyb7mR-OAKqQ",
        "colab_type": "text"
      },
      "cell_type": "markdown",
      "source": [
        "# Zusatzfunktionen"
      ]
    },
    {
      "metadata": {
        "id": "gt9_zFIuAPpu",
        "colab_type": "text"
      },
      "cell_type": "markdown",
      "source": [
        "## Löschen aller Sonderzeichen, Zahlen und einfache Rechtschreibkorrektur "
      ]
    },
    {
      "metadata": {
        "id": "AW7VVRSSAJR9",
        "colab_type": "code",
        "colab": {}
      },
      "cell_type": "code",
      "source": [
        "spell = SpellChecker('de')\n",
        "spell.word_frequency.add('XD')\n",
        "\n",
        "fobj = open(\"Thesis-Data-master/6k_spellcheck_word-rechtschreib-prüfung.formt\")\n",
        "fobj_out = open(\"dbComments.formt\",\"w\")\n",
        "i=0\n",
        "for line in fobj:\n",
        "  i+=1\n",
        "  kor_kommentar=''\n",
        "  \n",
        "  zeile=line.split(';')\n",
        "  \n",
        "  if len(zeile) == 2:\n",
        "    \n",
        "    if (zeile[0]=='0') or (zeile[0]=='1') or (zeile[0]=='2'):\n",
        "      sentiment= zeile[0]\n",
        "    else:\n",
        "      continue\n",
        "    kommentar= zeile[1]\n",
        "    \n",
        "    #alle ungewollten Zeichen löschen:\n",
        "    allow = \"ßäöüÄÜÖa-zA-Z \"\n",
        "    kommentar = re.sub('[^%s]' % allow, ' ', kommentar)\n",
        "    while (kommentar.find('  ')!= -1):\n",
        "      kommentar = re.sub('  ',' ',kommentar)\n",
        "    if len(re.sub(' ','',kommentar))<=1:\n",
        "      continue\n",
        "    if kommentar[0]==' ':\n",
        "      kommentar=kommentar[1:]\n",
        "    \n",
        "    #Wörter korrigieren\n",
        "    for wort in kommentar.split(' '):\n",
        "      wort_m2=''\n",
        "      misspelled = spell.unknown([wort])\n",
        "      for wort_m in misspelled:\n",
        "          if wort_m  != '':\n",
        "            wort_m2  = spell.correction(wort_m )\n",
        "            if wort_m2 != wort_m:\n",
        "              if len(wort_m2) > 1:\n",
        "                if not wort_m.find('ue'):\n",
        "                  if wort_m2.find('ue'):\n",
        "                    wort_m2 = re.sub('ue','ü',wort_m2)\n",
        "                if not wort_m.find('ae'):\n",
        "                  if wort_m2.find('ae'):\n",
        "                    wort_m2 = re.sub('ae','ä',wort_m2)\n",
        "                if not wort_m.find('oe'):\n",
        "                  if wort_m2.find('oe'):\n",
        "                    wort_m2 = re.sub('oe','ö',wort_m2)\n",
        "                  \n",
        "                \n",
        "                print ('correction '+str(i)+'  '+ wort_m + ' >> '+ wort_m2)\n",
        "                wort=wort_m2\n",
        "              else:\n",
        "                print ('unknown '+str(i)+'  '+ wort_m)\n",
        "                wort=wort_m2\n",
        "            else:\n",
        "              print ('unknown '+str(i)+'  '+ wort_m)\n",
        "              wort=wort_m2\n",
        "              \n",
        "      kor_kommentar = kor_kommentar + wort + ' '\n",
        "      \n",
        "    while (kor_kommentar.find('  ')!= -1):\n",
        "      kor_kommentar = re.sub('  ',' ',kor_kommentar)\n",
        "    if len(re.sub(' ','',kor_kommentar))<=1:\n",
        "      continue\n",
        "    fobj_out.write(sentiment+ ';' + kor_kommentar+ '\\n' )\n",
        "    \n",
        "  else:\n",
        "    continue"
      ],
      "execution_count": 0,
      "outputs": []
    },
    {
      "metadata": {
        "id": "TSXDRyFxBL0J",
        "colab_type": "text"
      },
      "cell_type": "markdown",
      "source": [
        "## Kommentare mit FastText übersätzen"
      ]
    },
    {
      "metadata": {
        "id": "b8BnVudVBMUG",
        "colab_type": "code",
        "colab": {}
      },
      "cell_type": "code",
      "source": [
        "!git clone https://github.com/facebookresearch/fastText.git\n",
        "#Modell downloaden und entpacken\n",
        "os.chdir(\"/content/fastText\")\n",
        "!make\n",
        "!mkdir data\n",
        "!mkdir result\n",
        "!mkdir model\n",
        "os.chdir(\"/content/fastText/model\")\n",
        "!wget https://dl.fbaipublicfiles.com/fasttext/vectors-wiki/wiki.de.zip\n",
        "!unzip wiki.de.zip\n",
        "os.chdir(\"/content/fastText\")\n",
        "\n",
        "#Datei zum übersätzen vorbereiten\n",
        "fobj = open(\"dbComments.formt\")\n",
        "str2=\"\"\n",
        "for line in fobj:\n",
        "  str1=line\n",
        "  \n",
        "  for i in str1.split(';'):\n",
        "    if (i != \"0\" and i != \"1\" and i != \"2\") :\n",
        "      str2=str2+i\n",
        "fobj_out = open(\"dbComments.trans\",\"w\")\n",
        "fobj_out.write(str2)\n",
        "fobj.close()\n",
        "fobj_out.close()\n",
        "\n",
        "#Datei übersätzen \n",
        "!./fasttext print-word-vectors model/wiki.de.bin <dbComments.formt >>dbComments.w_vec\n"
      ],
      "execution_count": 0,
      "outputs": []
    }
  ]
}